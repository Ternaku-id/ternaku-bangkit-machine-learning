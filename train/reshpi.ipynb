{
 "cells": [
  {
   "attachments": {},
   "cell_type": "markdown",
   "metadata": {},
   "source": [
    "<h2>Resize ukuran dataset<h2>"
   ]
  },
  {
   "cell_type": "code",
   "execution_count": 1,
   "metadata": {},
   "outputs": [
    {
     "name": "stdout",
     "output_type": "stream",
     "text": [
      "Reshape dan penyalinan selesai!\n"
     ]
    }
   ],
   "source": [
    "import os\n",
    "import shutil\n",
    "from PIL import Image\n",
    "\n",
    "# Menentukan folder sumber dan tujuan\n",
    "folder_sumber = [r'D:\\CAPSTONE\\sapi\\test\\pinkeye', r'D:\\CAPSTONE\\sapi\\test\\sehat', r'D:\\CAPSTONE\\sapi\\train\\pinkeye', r'D:\\CAPSTONE\\sapi\\train\\sehat']\n",
    "folder_tujuan = [r'D:\\CAPSTONE\\sapires\\test\\pinkeye', r'D:\\CAPSTONE\\sapires\\test\\sehat', r'D:\\CAPSTONE\\sapires\\train\\pinkeye', r'D:\\CAPSTONE\\sapires\\train\\sehat']\n",
    "\n",
    "# Membuat folder tujuan jika belum ada\n",
    "for folder in folder_tujuan:\n",
    "    if not os.path.exists(folder):\n",
    "        os.makedirs(folder)\n",
    "\n",
    "# Melakukan reshape pada setiap folder sumber\n",
    "for i in range(len(folder_sumber)):\n",
    "    sumber = folder_sumber[i]\n",
    "    tujuan = folder_tujuan[i]\n",
    "\n",
    "    file_list = os.listdir(sumber)\n",
    "\n",
    "    for file_name in file_list:\n",
    "        file_path_sumber = os.path.join(sumber, file_name)\n",
    "        file_path_tujuan = os.path.join(tujuan, file_name)\n",
    "\n",
    "        img = Image.open(file_path_sumber)\n",
    "\n",
    "        # resize 640x640 piksel\n",
    "        resized_img = img.resize((640, 640))\n",
    "\n",
    "        resized_img.save(file_path_tujuan)\n",
    "\n",
    "print(\"Reshape dan penyalinan selesai!\")\n"
   ]
  }
 ],
 "metadata": {
  "kernelspec": {
   "display_name": "Python 3",
   "language": "python",
   "name": "python3"
  },
  "language_info": {
   "codemirror_mode": {
    "name": "ipython",
    "version": 3
   },
   "file_extension": ".py",
   "mimetype": "text/x-python",
   "name": "python",
   "nbconvert_exporter": "python",
   "pygments_lexer": "ipython3",
   "version": "3.9.6"
  },
  "orig_nbformat": 4
 },
 "nbformat": 4,
 "nbformat_minor": 2
}
